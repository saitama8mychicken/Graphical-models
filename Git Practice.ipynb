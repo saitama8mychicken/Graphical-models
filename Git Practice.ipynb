{
 "cells": [
  {
   "cell_type": "code",
   "execution_count": 1,
   "metadata": {},
   "outputs": [
    {
     "name": "stdout",
     "output_type": "stream",
     "text": [
      "welcome to PGM tutorial\n"
     ]
    }
   ],
   "source": [
    "print('welcome to PGM tutorial')"
   ]
  },
  {
   "cell_type": "code",
   "execution_count": 1,
   "metadata": {},
   "outputs": [],
   "source": [
    "# importing required libraries\n",
    "from pgmpy.factors.discrete import TabularCPD\n",
    "from pgmpy.models import BayesianModel\n",
    "import networkx as nx\n",
    "import matplotlib.pyplot as plt"
   ]
  },
  {
   "cell_type": "code",
   "execution_count": 2,
   "metadata": {},
   "outputs": [],
   "source": [
    "# first set the structure of your graph while directly initialising your model\n",
    "model = BayesianModel([('Genetic', 'Performance'),\n",
    "                       ('Practice', 'Performance'),\n",
    "                       ('Performance', 'Offer')])"
   ]
  },
  {
   "cell_type": "code",
   "execution_count": 3,
   "metadata": {},
   "outputs": [
    {
     "data": {
      "image/png": "[encoded data removed]",
      "text/plain": [
       "<Figure size 432x288 with 1 Axes>"
      ]
     },
     "metadata": {},
     "output_type": "display_data"
    }
   ],
   "source": [
    "nx.draw_networkx(model)"
   ]
  },
  {
   "cell_type": "code",
   "execution_count": 4,
   "metadata": {},
   "outputs": [],
   "source": [
    "# now if you have data then you can fit it else write out the cpd  individually\n",
    "genetic_cpd = TabularCPD( variable = 'Genetic', \n",
    "                        variable_card = 2,\n",
    "                        values = [[.2, .8]])"
   ]
  },
  {
   "cell_type": "code",
   "execution_count": 5,
   "metadata": {},
   "outputs": [],
   "source": [
    "performane_cpd = TabularCPD( variable = 'Performance',\n",
    "                           variable_card = 3,\n",
    "                           values = [[.5, .8, .8, .9],\n",
    "                                    [.3, .15, .1, .08],\n",
    "                                    [.2, .05, .1, .02]],\n",
    "                           evidence = ['Genetic', 'Practice'],\n",
    "                           evidence_card = [2,2])"
   ]
  },
  {
   "cell_type": "code",
   "execution_count": 6,
   "metadata": {},
   "outputs": [],
   "source": [
    "practice_cpd = TabularCPD( variable = 'Practice', \n",
    "                         variable_card = 2,\n",
    "                         values = [[.7, .3]])"
   ]
  },
  {
   "cell_type": "code",
   "execution_count": 19,
   "metadata": {},
   "outputs": [],
   "source": [
    "offer_cpd = TabularCPD(variable = 'Offer',\n",
    "                      variable_card = 2,\n",
    "                      values = [[.95, .8, .5],\n",
    "                               [.05, .2, .5]],\n",
    "                      evidence = ['Performance'],\n",
    "                      evidence_card = [3])"
   ]
  },
  {
   "cell_type": "code",
   "execution_count": 21,
   "metadata": {},
   "outputs": [
    {
     "name": "stdout",
     "output_type": "stream",
     "text": [
      "+-------------+---------------+---------------+---------------+\n",
      "| Performance | Performance_0 | Performance_1 | Performance_2 |\n",
      "+-------------+---------------+---------------+---------------+\n",
      "| Offer_0     | 0.95          | 0.8           | 0.5           |\n",
      "+-------------+---------------+---------------+---------------+\n",
      "| Offer_1     | 0.05          | 0.2           | 0.5           |\n",
      "+-------------+---------------+---------------+---------------+\n"
     ]
    }
   ],
   "source": [
    "print(offer_cpd)"
   ]
  },
  {
   "cell_type": "code",
   "execution_count": 8,
   "metadata": {},
   "outputs": [],
   "source": [
    "model.add_cpds(genetic_cpd,\n",
    "               performane_cpd,\n",
    "               practice_cpd, \n",
    "               offer_cpd)"
   ]
  },
  {
   "cell_type": "code",
   "execution_count": 9,
   "metadata": {},
   "outputs": [
    {
     "data": {
      "text/plain": [
       "True"
      ]
     },
     "execution_count": 9,
     "metadata": {},
     "output_type": "execute_result"
    }
   ],
   "source": [
    "# to check if each node is associated with cpds or not\n",
    "model.check_model()"
   ]
  },
  {
   "cell_type": "code",
   "execution_count": 10,
   "metadata": {},
   "outputs": [
    {
     "data": {
      "text/plain": [
       "[<TabularCPD representing P(Genetic:2) at 0x15f123f5198>,\n",
       " <TabularCPD representing P(Performance:3 | Genetic:2, Practice:2) at 0x15f123f5eb8>,\n",
       " <TabularCPD representing P(Practice:2) at 0x15f123cf128>,\n",
       " <TabularCPD representing P(Offer:2 | Performance:3) at 0x15f12412400>]"
      ]
     },
     "execution_count": 10,
     "metadata": {},
     "output_type": "execute_result"
    }
   ],
   "source": [
    "# to get the cpd of each model\n",
    "model.get_cpds()"
   ]
  },
  {
   "cell_type": "code",
   "execution_count": 11,
   "metadata": {},
   "outputs": [
    {
     "name": "stdout",
     "output_type": "stream",
     "text": [
      "+-------------+---------------+---------------+---------------+\n",
      "| Performance | Performance_0 | Performance_1 | Performance_2 |\n",
      "+-------------+---------------+---------------+---------------+\n",
      "| Offer_0     | 0.95          | 0.8           | 0.5           |\n",
      "+-------------+---------------+---------------+---------------+\n",
      "| Offer_1     | 0.05          | 0.2           | 0.5           |\n",
      "+-------------+---------------+---------------+---------------+\n"
     ]
    }
   ],
   "source": [
    "print(model.get_cpds('Offer'))"
   ]
  },
  {
   "cell_type": "code",
   "execution_count": 12,
   "metadata": {},
   "outputs": [
    {
     "data": {
      "text/plain": [
       "{'Genetic': {'Genetic', 'Offer', 'Performance'}}"
      ]
     },
     "execution_count": 12,
     "metadata": {},
     "output_type": "execute_result"
    }
   ],
   "source": [
    "# tells the nodes on which selected node is dependent\n",
    "\n",
    "model.active_trail_nodes('Genetic', observed = None)"
   ]
  },
  {
   "cell_type": "code",
   "execution_count": null,
   "metadata": {},
   "outputs": [],
   "source": []
  },
  {
   "cell_type": "code",
   "execution_count": 13,
   "metadata": {},
   "outputs": [
    {
     "data": {
      "text/plain": [
       "(Genetic _|_ Offer, Performance, Practice)"
      ]
     },
     "execution_count": 13,
     "metadata": {},
     "output_type": "execute_result"
    }
   ],
   "source": [
    "# tells if our moddel has any independent item with refrence to the selected item\n",
    "\n",
    "model.local_independencies('Genetic')"
   ]
  },
  {
   "cell_type": "code",
   "execution_count": 14,
   "metadata": {},
   "outputs": [
    {
     "data": {
      "text/plain": [
       "(Genetic _|_ Practice)\n",
       "(Genetic _|_ Offer | Performance)\n",
       "(Genetic _|_ Offer | Performance, Practice)\n",
       "(Practice _|_ Genetic)\n",
       "(Practice _|_ Offer | Performance)\n",
       "(Practice _|_ Offer | Genetic, Performance)\n",
       "(Offer _|_ Genetic, Practice | Performance)\n",
       "(Offer _|_ Practice | Performance, Genetic)\n",
       "(Offer _|_ Genetic | Performance, Practice)"
      ]
     },
     "execution_count": 14,
     "metadata": {},
     "output_type": "execute_result"
    }
   ],
   "source": [
    "# tells all the local independencies\n",
    "\n",
    "model.get_independencies()"
   ]
  },
  {
   "cell_type": "code",
   "execution_count": 15,
   "metadata": {},
   "outputs": [],
   "source": [
    "# making inference\n",
    "\n",
    "from pgmpy.inference import VariableElimination"
   ]
  },
  {
   "cell_type": "code",
   "execution_count": 16,
   "metadata": {},
   "outputs": [],
   "source": [
    "infer = VariableElimination(model)"
   ]
  },
  {
   "cell_type": "code",
   "execution_count": 17,
   "metadata": {},
   "outputs": [
    {
     "name": "stdout",
     "output_type": "stream",
     "text": [
      "+---------+--------------+\n",
      "| Offer   |   phi(Offer) |\n",
      "+=========+==============+\n",
      "| Offer_0 |       0.8898 |\n",
      "+---------+--------------+\n",
      "| Offer_1 |       0.1102 |\n",
      "+---------+--------------+\n"
     ]
    },
    {
     "name": "stderr",
     "output_type": "stream",
     "text": [
      "C:\\Users\\uru\\Anaconda3\\lib\\site-packages\\pgmpy\\factors\\discrete\\DiscreteFactor.py:586: FutureWarning: Using a non-tuple sequence for multidimensional indexing is deprecated; use `arr[tuple(seq)]` instead of `arr[seq]`. In the future this will be interpreted as an array index, `arr[np.array(seq)]`, which will result either in an error or a different result.\n",
      "  phi.values = phi.values[slice_]\n",
      "C:\\Users\\uru\\Anaconda3\\lib\\site-packages\\pgmpy\\factors\\discrete\\DiscreteFactor.py:598: FutureWarning: Using a non-tuple sequence for multidimensional indexing is deprecated; use `arr[tuple(seq)]` instead of `arr[seq]`. In the future this will be interpreted as an array index, `arr[np.array(seq)]`, which will result either in an error or a different result.\n",
      "  phi1.values = phi1.values[slice_]\n"
     ]
    }
   ],
   "source": [
    "infer_offer = infer.query(variables = ['Offer'])\n",
    "print(infer_offer['Offer'])"
   ]
  },
  {
   "cell_type": "code",
   "execution_count": 18,
   "metadata": {},
   "outputs": [
    {
     "name": "stdout",
     "output_type": "stream",
     "text": [
      "+---------+--------------+\n",
      "| Offer   |   phi(Offer) |\n",
      "+=========+==============+\n",
      "| Offer_0 |       0.9017 |\n",
      "+---------+--------------+\n",
      "| Offer_1 |       0.0983 |\n",
      "+---------+--------------+\n"
     ]
    }
   ],
   "source": [
    "# probability of player with bad gene (1) gettinng into team\n",
    "\n",
    "offer_genetics_false = infer.query(variables = ['Offer'],\n",
    "                                   evidence = {'Genetic':1})\n",
    "\n",
    "\n",
    "print(offer_genetics_false['Offer'])\n"
   ]
  },
  {
   "cell_type": "code",
   "execution_count": null,
   "metadata": {},
   "outputs": [],
   "source": []
  },
  {
   "cell_type": "code",
   "execution_count": null,
   "metadata": {},
   "outputs": [],
   "source": []
  }
 ],
 "metadata": {
  "kernelspec": {
   "display_name": "Python 3",
   "language": "python",
   "name": "python3"
  },
  "language_info": {
   "codemirror_mode": {
    "name": "ipython",
    "version": 3
   },
   "file_extension": ".py",
   "mimetype": "text/x-python",
   "name": "python",
   "nbconvert_exporter": "python",
   "pygments_lexer": "ipython3",
   "version": "3.7.3"
  }
 },
 "nbformat": 4,
 "nbformat_minor": 2
}
